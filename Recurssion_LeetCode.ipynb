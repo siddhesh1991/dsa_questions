{
  "nbformat": 4,
  "nbformat_minor": 0,
  "metadata": {
    "colab": {
      "provenance": [],
      "authorship_tag": "ABX9TyMH5NWNflhyZjAkvtm56r8A",
      "include_colab_link": true
    },
    "kernelspec": {
      "name": "python3",
      "display_name": "Python 3"
    },
    "language_info": {
      "name": "python"
    }
  },
  "cells": [
    {
      "cell_type": "markdown",
      "metadata": {
        "id": "view-in-github",
        "colab_type": "text"
      },
      "source": [
        "<a href=\"https://colab.research.google.com/github/siddhesh1991/dsa_questions/blob/main/Recurssion_LeetCode.ipynb\" target=\"_parent\"><img src=\"https://colab.research.google.com/assets/colab-badge.svg\" alt=\"Open In Colab\"/></a>"
      ]
    },
    {
      "cell_type": "code",
      "execution_count": 1,
      "metadata": {
        "colab": {
          "base_uri": "https://localhost:8080/"
        },
        "id": "5DsqtRd5wtc0",
        "outputId": "07e8328c-bcc7-4f2a-e4db-4d29426eba9a"
      },
      "outputs": [
        {
          "output_type": "stream",
          "name": "stdout",
          "text": [
            "All test cases passed.\n"
          ]
        }
      ],
      "source": [
        "import sys\n",
        "\n",
        "# Increase the recursion limit\n",
        "sys.setrecursionlimit(3000)\n",
        "\n",
        "def collatz(n, i=0):\n",
        "    if n == 1:\n",
        "        return i\n",
        "    elif n % 2 == 0:\n",
        "        return collatz(n // 2, i + 1)\n",
        "    else:\n",
        "        return collatz(3 * n + 1, i + 1)\n",
        "\n",
        "# Corrected test cases\n",
        "def test_collatz():\n",
        "    assert collatz(6) == 8\n",
        "    assert collatz(16) == 4\n",
        "    assert collatz(626331) == 508\n",
        "    assert collatz(1) == 0\n",
        "\n",
        "# Run the test cases\n",
        "test_collatz()\n",
        "print(\"All test cases passed.\")"
      ]
    },
    {
      "cell_type": "code",
      "source": [
        "def factorial(n):\n",
        "    if n in [1,0]:\n",
        "        return 1\n",
        "    return factorial(n-1)*n\n",
        "\n",
        "    # prompt: create test cases for function in previous cell block\n",
        "\n",
        "def test_factorial():\n",
        "    assert factorial(0) == 1\n",
        "    assert factorial(1) == 1\n",
        "    assert factorial(2) == 2\n",
        "    assert factorial(3) == 6\n",
        "    assert factorial(4) == 24\n",
        "\n",
        "# Run the test cases\n",
        "test_factorial()\n",
        "print(\"All test cases passed.\")"
      ],
      "metadata": {
        "colab": {
          "base_uri": "https://localhost:8080/"
        },
        "id": "-0cWl_EsydLW",
        "outputId": "95e4fec0-2f6a-4726-bbb3-9bec591d60f0"
      },
      "execution_count": 2,
      "outputs": [
        {
          "output_type": "stream",
          "name": "stdout",
          "text": [
            "All test cases passed.\n"
          ]
        }
      ]
    },
    {
      "cell_type": "code",
      "source": [
        "def sort_stack(arr):\n",
        "    if not arr:\n",
        "        return arr\n",
        "\n",
        "    if len(arr) == 1 :\n",
        "        return arr\n",
        "\n",
        "    last_val = arr.pop()\n",
        "    sort_stack(arr)\n",
        "    return insertVal(arr,last_val)\n",
        "\n",
        "def insertVal(sorted_arr,val):\n",
        "    if  len(sorted_arr) == 0 or val > sorted_arr[-1]:\n",
        "        sorted_arr.append(val)\n",
        "        return sorted_arr\n",
        "\n",
        "    temp = sorted_arr.pop()\n",
        "    insertVal(sorted_arr,val)\n",
        "    sorted_arr.append(temp)\n",
        "    return sorted_arr\n",
        "\n",
        "\n",
        "# Test cases\n",
        "def test_sort_stack():\n",
        "    assert sort_stack([]) == []\n",
        "    assert sort_stack([1]) == [1]\n",
        "    assert sort_stack([1, 2, 3, 4, 5]) == [1, 2, 3, 4, 5]\n",
        "    assert sort_stack([5, 4, 3, 2, 1]) == [1, 2, 3, 4, 5]\n",
        "    assert sort_stack([3, 1, 4, 2, 5]) == [1, 2, 3, 4, 5]\n",
        "    assert sort_stack([3, 1, 4, 2, 3]) == [1, 2, 3, 3, 4]\n",
        "\n",
        "# Run the test cases\n",
        "test_sort_stack()\n",
        "print(\"All test cases passed.\")"
      ],
      "metadata": {
        "colab": {
          "base_uri": "https://localhost:8080/"
        },
        "id": "kM29mV50yehc",
        "outputId": "3ad46a43-aedf-446a-e357-6d5db7a6b53d"
      },
      "execution_count": 33,
      "outputs": [
        {
          "output_type": "stream",
          "name": "stdout",
          "text": [
            "All test cases passed.\n"
          ]
        }
      ]
    },
    {
      "cell_type": "code",
      "source": [
        "sort_stack(arr = [2,4,1,45,10,111,23,1])"
      ],
      "metadata": {
        "colab": {
          "base_uri": "https://localhost:8080/"
        },
        "id": "chlGbU5p1-0t",
        "outputId": "65e499ca-256f-47cc-ed01-ecf37fefbaaa"
      },
      "execution_count": 24,
      "outputs": [
        {
          "output_type": "execute_result",
          "data": {
            "text/plain": [
              "[1, 1, 2, 4, 10, 23, 45, 111]"
            ]
          },
          "metadata": {},
          "execution_count": 24
        }
      ]
    },
    {
      "cell_type": "code",
      "source": [
        "def delMid(arr):\n",
        "    k = (len(arr)//2)  + 1\n",
        "\n",
        "    def solve(arr,k):\n",
        "\n",
        "        if k == 1 :\n",
        "            arr.pop()\n",
        "            return\n",
        "\n",
        "        last_val = arr.pop()\n",
        "        solve(arr,k-1)\n",
        "        arr.append(last_val)\n",
        "\n",
        "    if arr:\n",
        "        solve(arr,k)\n",
        "\n",
        "    return arr\n",
        "\n",
        "def test_delMid():\n",
        "    assert delMid([1]) == []\n",
        "    assert delMid([1, 2]) == [2]\n",
        "    assert delMid([1, 2, 3, 4, 5]) == [1, 2, 4, 5]\n",
        "    assert delMid([5, 4, 3, 2, 1]) == [5, 4, 2, 1]\n",
        "    assert delMid([3, 1, 4, 2, 5]) == [3, 1, 2, 5]\n",
        "    assert delMid([3, 1, 4, 2, 3]) == [3, 1, 2, 3]\n",
        "    assert delMid([3, 1, 4, 5, 2, 3]) == [3, 1, 5, 2, 3]\n",
        "\n",
        "# Run the test cases\n",
        "test_delMid()\n",
        "print(\"All test cases passed.\")\n"
      ],
      "metadata": {
        "colab": {
          "base_uri": "https://localhost:8080/"
        },
        "id": "5VDqrKyC2B5E",
        "outputId": "85815a87-e3ff-498e-d604-17defd2357a3"
      },
      "execution_count": 63,
      "outputs": [
        {
          "output_type": "stream",
          "name": "stdout",
          "text": [
            "All test cases passed.\n"
          ]
        }
      ]
    },
    {
      "cell_type": "code",
      "source": [
        "def reverse_stack(stack):\n",
        "    # Base case: If stack is empty, return\n",
        "    if len(stack) <= 1:\n",
        "        return stack\n",
        "\n",
        "    # Remove the top element\n",
        "    top = stack.pop()\n",
        "\n",
        "    # Reverse the remaining stack\n",
        "    reverse_stack(stack)\n",
        "\n",
        "    # Insert the top element at the bottom of the reversed stack\n",
        "    insert_at_bottom(stack, top)\n",
        "    return\n",
        "\n",
        "def insert_at_bottom(stack, item):\n",
        "    # Base case: If stack is empty, push the item\n",
        "    if not stack:\n",
        "        stack.append(item)\n",
        "        return\n",
        "\n",
        "    # Remove the top element\n",
        "    top = stack.pop()\n",
        "\n",
        "    # Insert the item at the bottom of the stack\n",
        "    insert_at_bottom(stack, item)\n",
        "\n",
        "    # Push the top element back on top\n",
        "    stack.append(top)\n",
        "\n",
        "# Test cases\n",
        "def test_reverse_stack():\n",
        "    assert reverse_stack([]) == []\n",
        "    assert reverse_stack([1]) == [1]\n",
        "    assert reverse_stack([1, 2, 3, 4, 5]) == [5, 4, 3, 2, 1]\n",
        "    assert reverse_stack([5, 4, 3, 2, 1]) == [1, 2, 3, 4, 5]\n",
        "    assert reverse_stack([3, 1, 4, 2, 5]) == [5, 2, 4, 1, 3]\n",
        "    assert reverse_stack([3, 1, 4, 2, 3]) == [3, 2, 4, 1, 3]\n",
        "\n",
        "# # Run the test cases\n",
        "# test_reverse_stack()\n",
        "print(\"All test cases passed.\")\n"
      ],
      "metadata": {
        "colab": {
          "base_uri": "https://localhost:8080/"
        },
        "id": "BkHU7MioCHpp",
        "outputId": "8207e116-4907-44b9-ee1e-0d5d6a844e89"
      },
      "execution_count": 76,
      "outputs": [
        {
          "output_type": "stream",
          "name": "stdout",
          "text": [
            "All test cases passed.\n"
          ]
        }
      ]
    },
    {
      "cell_type": "code",
      "source": [
        "def kthGrammar(n, k):\n",
        "    # Base case: the first row\n",
        "    if n == 1:\n",
        "        return 0\n",
        "\n",
        "    # Find the middle index of the current row\n",
        "    mid = (2 ** (n - 1)) // 2\n",
        "\n",
        "    if k <= mid:\n",
        "        # If k is in the first half, it's the same as the k-th symbol in the previous row\n",
        "        return kthGrammar(n - 1, k)\n",
        "    else:\n",
        "        # If k is in the second half, it's the inverse of the (k - mid)-th symbol in the previous row\n",
        "        return 1 - kthGrammar(n - 1, k - mid)"
      ],
      "metadata": {
        "id": "x6Wp-pbHBMH2"
      },
      "execution_count": 1,
      "outputs": []
    },
    {
      "cell_type": "code",
      "source": [
        "def hanoi(n,start,end):\n",
        "    if n == 1:\n",
        "        print(f\"{start}->{end}\")\n",
        "        return\n",
        "\n",
        "    other = 6 - (start+end)\n",
        "    hanoi(n-1,start,other)\n",
        "    print(f\"{start}->{end}\")\n",
        "    hanoi(n-1,other,end)\n",
        "\n",
        "\n"
      ],
      "metadata": {
        "id": "fzGSmuTwzMaN"
      },
      "execution_count": 21,
      "outputs": []
    },
    {
      "cell_type": "code",
      "source": [
        "hanoi(3,1,2)"
      ],
      "metadata": {
        "colab": {
          "base_uri": "https://localhost:8080/"
        },
        "id": "cvosMXNE4rLe",
        "outputId": "3da4c443-53fd-45b0-9752-f4410aad4199"
      },
      "execution_count": 27,
      "outputs": [
        {
          "output_type": "stream",
          "name": "stdout",
          "text": [
            "1->2\n",
            "1->3\n",
            "2->3\n",
            "1->2\n",
            "3->1\n",
            "3->2\n",
            "1->2\n"
          ]
        }
      ]
    },
    {
      "cell_type": "code",
      "source": [
        "def subsets( nums):\n",
        "    result = []\n",
        "    op = []\n",
        "\n",
        "    # def solve(nums,op):\n",
        "    #     arr = nums.copy()\n",
        "    #     if len(arr) == 0:\n",
        "    #         result.append(op)\n",
        "    #         return\n",
        "\n",
        "    #     last_val = arr.pop()\n",
        "    #     op1 = op\n",
        "    #     op2 = [last_val] + op\n",
        "\n",
        "    #     solve(arr,op1)\n",
        "    #     solve(arr,op2)\n",
        "\n",
        "    # solve(nums,op)\n",
        "\n",
        "    result = []\n",
        "    op = []\n",
        "\n",
        "    def solve(index, op):\n",
        "        if index == len(nums):\n",
        "            result.append(op)\n",
        "            return\n",
        "\n",
        "        # Exclude the current element\n",
        "        solve(index + 1, op)\n",
        "\n",
        "        # Include the current element\n",
        "        solve(index + 1, [nums[index]] + op)\n",
        "\n",
        "    solve(0, op)\n",
        "\n",
        "        # return result\n",
        "\n",
        "    return result\n"
      ],
      "metadata": {
        "id": "RuC2VpCx4usd"
      },
      "execution_count": 37,
      "outputs": []
    },
    {
      "cell_type": "code",
      "source": [
        "nums = [1,2,3]\n",
        "subsets(nums)"
      ],
      "metadata": {
        "colab": {
          "base_uri": "https://localhost:8080/"
        },
        "id": "0HGCnuW4KOUY",
        "outputId": "520b5a9b-f7b0-4636-e758-a0b8da8e183f"
      },
      "execution_count": 40,
      "outputs": [
        {
          "output_type": "execute_result",
          "data": {
            "text/plain": [
              "[[], [1], [2], [1, 2], [3], [1, 3], [2, 3], [1, 2, 3]]"
            ]
          },
          "metadata": {},
          "execution_count": 40
        }
      ]
    },
    {
      "cell_type": "code",
      "source": [
        "def permutation(s):\n",
        "    result = []\n",
        "\n",
        "    # Recursive function to generate combinations\n",
        "    def solve(current, index):\n",
        "        if index == len(s):\n",
        "            result.append(current)\n",
        "            return\n",
        "        # Without space\n",
        "        solve(current + s[index], index + 1)\n",
        "        # With space (only if it's not the last character)\n",
        "        solve(current +\" \"+ s[index] , index + 1)\n",
        "\n",
        "    # Start recursion with the first character\n",
        "    solve(s[0], 1)\n",
        "\n",
        "    # Sort the result in lexicographical order\n",
        "    result.sort()\n",
        "\n",
        "    return result\n",
        "\n",
        "# Example usage\n",
        "print(permutation(\"ABC\"))  # Output: ['A B C', 'A BC', 'AB C', 'ABC']\n",
        "print(permutation(\"BBR\"))  # Output: ['B B R', 'B BR', 'BB R', 'BBR']\n"
      ],
      "metadata": {
        "colab": {
          "base_uri": "https://localhost:8080/"
        },
        "id": "idTItuNPKS7t",
        "outputId": "47837899-d200-4025-9c51-b6cc8863c620"
      },
      "execution_count": 6,
      "outputs": [
        {
          "output_type": "stream",
          "name": "stdout",
          "text": [
            "['A B C', 'A BC', 'AB C', 'ABC']\n",
            "['B B R', 'B BR', 'BB R', 'BBR']\n"
          ]
        }
      ]
    },
    {
      "cell_type": "code",
      "source": [
        "def letterCasePermutation(s):\n",
        "    result = []\n",
        "\n",
        "    # Recursive function to generate combinations\n",
        "    def backtrack(current, index):\n",
        "        if index == len(s):\n",
        "            result.append(current)\n",
        "            return\n",
        "\n",
        "        # # Include the current character without changing case\n",
        "        # backtrack(current + s[index], index + 1)\n",
        "\n",
        "        # If the current character is a letter, also include it with changed case\n",
        "        if s[index].isalpha():\n",
        "            backtrack(current + s[index].lower(), index + 1)\n",
        "            backtrack(current + s[index].upper(), index + 1)\n",
        "            # backtrack(current + s[index], index + 1)\n",
        "            # Toggle the case and include it\n",
        "            # if s[index].islower():\n",
        "            #     backtrack(current + s[index].upper(), index + 1)\n",
        "            # else:\n",
        "            #     backtrack(current + s[index].lower(), index + 1)\n",
        "        else:\n",
        "            backtrack(current + s[index], index + 1)\n",
        "\n",
        "    # Start recursion with an empty string and index 0\n",
        "    backtrack(\"\", 0)\n",
        "    result.sort()\n",
        "    return result\n",
        "\n",
        "# Example usage\n",
        "print(letterCasePermutation(\"a1b2\"))  # Expected output: ['a1b2', 'a1B2', 'A1b2', 'A1B2']\n",
        "print(letterCasePermutation(\"3z4\"))   # Expected output: ['3z4', '3Z4']\n",
        "print(letterCasePermutation(\"ab\"))"
      ],
      "metadata": {
        "colab": {
          "base_uri": "https://localhost:8080/"
        },
        "id": "aLT46XyVCns2",
        "outputId": "41b1f7ae-4453-432b-8c60-bb1bde77e862"
      },
      "execution_count": 24,
      "outputs": [
        {
          "output_type": "stream",
          "name": "stdout",
          "text": [
            "['A1B2', 'A1b2', 'a1B2', 'a1b2']\n",
            "['3Z4', '3z4']\n",
            "['AB', 'Ab', 'aB', 'ab']\n"
          ]
        }
      ]
    },
    {
      "cell_type": "code",
      "source": [
        "from typing import List"
      ],
      "metadata": {
        "id": "n3F52SXhYAQK"
      },
      "execution_count": 25,
      "outputs": []
    },
    {
      "cell_type": "code",
      "source": [
        "def generateParenthesis( n: int) -> List[str]:\n",
        "\n",
        "    result =[]\n",
        "\n",
        "    def solve(s,open,close):\n",
        "\n",
        "        if open == close == 0:\n",
        "            result.append(s)\n",
        "            return\n",
        "\n",
        "        if open != 0:\n",
        "            if open < close:\n",
        "                solve(s+\"(\",open-1,close)\n",
        "                solve(s+\")\",open,close-1)\n",
        "            elif open == close:\n",
        "                solve(s+\"(\",open-1,close)\n",
        "        else:\n",
        "            solve(s+\")\",open,close-1)\n",
        "\n",
        "    solve(\"(\",n-1,n)\n",
        "    return result\n",
        "\n",
        "def generateParenthesis(n):\n",
        "    result = []\n",
        "\n",
        "    def backtrack(current, open_count, close_count):\n",
        "        if len(current) == 2 * n:\n",
        "            result.append(current)\n",
        "            return\n",
        "\n",
        "        if open_count < n:\n",
        "            backtrack(current + \"(\", open_count + 1, close_count)\n",
        "\n",
        "        if close_count < open_count:\n",
        "            backtrack(current + \")\", open_count, close_count + 1)\n",
        "\n",
        "    backtrack(\"\", 0, 0)\n",
        "\n",
        "    return result\n",
        "\n",
        "# Example usage\n",
        "print(generateParenthesis(3))  # Expected output: [\"((()))\",\"(()())\",\"(())()\",\"()(())\",\"()()()\"]\n",
        "print(generateParenthesis(1))  # Expected output: [\"()\"]\n",
        "\n"
      ],
      "metadata": {
        "colab": {
          "base_uri": "https://localhost:8080/"
        },
        "id": "UHqIBhUuFkM7",
        "outputId": "5cc827ee-b0f8-4328-c951-732d3f24c3bf"
      },
      "execution_count": 32,
      "outputs": [
        {
          "output_type": "stream",
          "name": "stdout",
          "text": [
            "['((()))', '(()())', '(())()', '()(())', '()()()']\n",
            "['()']\n"
          ]
        }
      ]
    },
    {
      "cell_type": "code",
      "source": [
        "generateParenthesis(1)"
      ],
      "metadata": {
        "colab": {
          "base_uri": "https://localhost:8080/"
        },
        "id": "aqmyP1eQYEDm",
        "outputId": "86363402-287e-46a8-817c-ae9f50c85715"
      },
      "execution_count": 31,
      "outputs": [
        {
          "output_type": "execute_result",
          "data": {
            "text/plain": [
              "['()']"
            ]
          },
          "metadata": {},
          "execution_count": 31
        }
      ]
    },
    {
      "cell_type": "code",
      "source": [
        "def preSumValid(s):\n",
        "    bit = [int(i) for i in s]\n",
        "    return (sum(bit)/len(bit)) >= 0.5"
      ],
      "metadata": {
        "id": "-80BcRBFWGE5"
      },
      "execution_count": 7,
      "outputs": []
    },
    {
      "cell_type": "code",
      "source": [
        "preSumValid(\"11010\")"
      ],
      "metadata": {
        "colab": {
          "base_uri": "https://localhost:8080/"
        },
        "id": "vPRtKrW1WG1K",
        "outputId": "3358c52c-228f-42ff-b0cc-8243153b026d"
      },
      "execution_count": 13,
      "outputs": [
        {
          "output_type": "execute_result",
          "data": {
            "text/plain": [
              "True"
            ]
          },
          "metadata": {},
          "execution_count": 13
        }
      ]
    },
    {
      "cell_type": "code",
      "source": [
        "\n",
        "def NBitBinary(n):\n",
        "\n",
        "    result = []\n",
        "\n",
        "    def preSumValid(s):\n",
        "        bit = [int(i) for i in s]\n",
        "        return (sum(bit)/len(bit)) >= 0.5\n",
        "\n",
        "    def solve(s,ct):\n",
        "\n",
        "        if len(s) == n and preSumValid(s):\n",
        "            result.append(s)\n",
        "            return\n",
        "\n",
        "        if preSumValid(s):\n",
        "            solve(s+\"1\",ct+1)\n",
        "            solve(s+\"0\",ct+1)\n",
        "\n",
        "\n",
        "    solve(\"1\",1)\n",
        "    return result\n",
        "\n",
        "\n",
        "def NBitBinary(n):\n",
        "\n",
        "    result = []\n",
        "\n",
        "    def solve(s,ones,zeros):\n",
        "\n",
        "        if len(s) == n:\n",
        "            result.append(s)\n",
        "            return\n",
        "\n",
        "        solve(s+\"1\",ones+1,zeros)\n",
        "\n",
        "        if zeros < ones:\n",
        "            solve(s+\"0\",ones,zeros+1)\n",
        "\n",
        "\n",
        "    solve(\"\",0,0)\n",
        "    return result\n"
      ],
      "metadata": {
        "id": "q_cCcq2xZa2Y"
      },
      "execution_count": 44,
      "outputs": []
    },
    {
      "cell_type": "code",
      "source": [
        "NBitBinary(2)"
      ],
      "metadata": {
        "colab": {
          "base_uri": "https://localhost:8080/"
        },
        "id": "HVIBDMsDXdTi",
        "outputId": "375af820-d0d3-44da-9328-a9f5175f4810"
      },
      "execution_count": 46,
      "outputs": [
        {
          "output_type": "execute_result",
          "data": {
            "text/plain": [
              "['11', '10']"
            ]
          },
          "metadata": {},
          "execution_count": 46
        }
      ]
    },
    {
      "cell_type": "code",
      "source": [
        "def cod(n,k):\n",
        "\n",
        "    arr = [i+1 for i in range(n)]\n",
        "    k -= 1\n",
        "    idx = 0\n",
        "    while len(arr) > 1:\n",
        "        idx =(idx+ k)%len(arr)\n",
        "        arr.pop(idx)\n",
        "\n",
        "    return arr"
      ],
      "metadata": {
        "id": "-lsGOtJZXfwr"
      },
      "execution_count": 58,
      "outputs": []
    },
    {
      "cell_type": "code",
      "source": [
        "cod(3,2)"
      ],
      "metadata": {
        "colab": {
          "base_uri": "https://localhost:8080/"
        },
        "id": "WkC1zIwRpGEH",
        "outputId": "8cbc7a28-6473-4a71-941e-d5a54fa8c772"
      },
      "execution_count": 65,
      "outputs": [
        {
          "output_type": "execute_result",
          "data": {
            "text/plain": [
              "3"
            ]
          },
          "metadata": {},
          "execution_count": 65
        }
      ]
    },
    {
      "cell_type": "code",
      "source": [
        "def josephus(n, k):\n",
        "    if n == 1:\n",
        "        return 0\n",
        "    else:\n",
        "        return (josephus(n - 1, k) + k) % n\n",
        "\n",
        "def cod(n, k):\n",
        "    return josephus(n, k) + 1\n",
        "\n",
        "# Example usage\n",
        "print(cod(7, 3))  # Expected output: 4\n",
        "print(cod(5, 2))  # Expected output: 3\n",
        "print(cod(3, 2))\n"
      ],
      "metadata": {
        "colab": {
          "base_uri": "https://localhost:8080/"
        },
        "id": "_VsVALKnpK3z",
        "outputId": "201f1fd6-a5a0-441c-d68c-f7e2bfb260c7"
      },
      "execution_count": 66,
      "outputs": [
        {
          "output_type": "stream",
          "name": "stdout",
          "text": [
            "4\n",
            "3\n",
            "3\n"
          ]
        }
      ]
    },
    {
      "cell_type": "code",
      "source": [
        "2%3"
      ],
      "metadata": {
        "colab": {
          "base_uri": "https://localhost:8080/"
        },
        "id": "bAcHJIPKqZyI",
        "outputId": "6b77e447-ca12-40af-f9a9-0f11e5f74470"
      },
      "execution_count": 62,
      "outputs": [
        {
          "output_type": "execute_result",
          "data": {
            "text/plain": [
              "2"
            ]
          },
          "metadata": {},
          "execution_count": 62
        }
      ]
    },
    {
      "cell_type": "code",
      "source": [
        "39%7"
      ],
      "metadata": {
        "colab": {
          "base_uri": "https://localhost:8080/"
        },
        "id": "ZmRPDwOLpj-b",
        "outputId": "8ee1dc09-d34e-492f-fbc9-d4bf6d0cf8be"
      },
      "execution_count": 67,
      "outputs": [
        {
          "output_type": "execute_result",
          "data": {
            "text/plain": [
              "4"
            ]
          },
          "metadata": {},
          "execution_count": 67
        }
      ]
    },
    {
      "cell_type": "code",
      "source": [
        "8%38"
      ],
      "metadata": {
        "colab": {
          "base_uri": "https://localhost:8080/"
        },
        "id": "TENt_CrRxUjU",
        "outputId": "1ba09208-3177-4d37-9744-a9798c0499c4"
      },
      "execution_count": 68,
      "outputs": [
        {
          "output_type": "execute_result",
          "data": {
            "text/plain": [
              "8"
            ]
          },
          "metadata": {},
          "execution_count": 68
        }
      ]
    },
    {
      "cell_type": "code",
      "source": [],
      "metadata": {
        "id": "mPp-Vw10xYNe"
      },
      "execution_count": null,
      "outputs": []
    }
  ]
}